{
 "cells": [
  {
   "cell_type": "code",
   "execution_count": 3,
   "metadata": {},
   "outputs": [],
   "source": [
    "import joblib\n",
    "import MeCab\n",
    "import numpy as np\n",
    "import pandas as pd"
   ]
  },
  {
   "cell_type": "code",
   "execution_count": 4,
   "metadata": {},
   "outputs": [],
   "source": [
    "# データの読み込み\n",
    "df = pd.read_csv(\"wikipedia-train.txt\",sep=\"\\t\")"
   ]
  },
  {
   "cell_type": "code",
   "execution_count": 5,
   "metadata": {},
   "outputs": [
    {
     "data": {
      "text/html": [
       "<div>\n",
       "<style scoped>\n",
       "    .dataframe tbody tr th:only-of-type {\n",
       "        vertical-align: middle;\n",
       "    }\n",
       "\n",
       "    .dataframe tbody tr th {\n",
       "        vertical-align: top;\n",
       "    }\n",
       "\n",
       "    .dataframe thead th {\n",
       "        text-align: right;\n",
       "    }\n",
       "</style>\n",
       "<table border=\"1\" class=\"dataframe\">\n",
       "  <thead>\n",
       "    <tr style=\"text-align: right;\">\n",
       "      <th></th>\n",
       "      <th>category</th>\n",
       "      <th>text</th>\n",
       "    </tr>\n",
       "  </thead>\n",
       "  <tbody>\n",
       "    <tr>\n",
       "      <th>0</th>\n",
       "      <td>mathematics</td>\n",
       "      <td>くし型関数 くし型関数（くしがたかんすう、）は、デルタ関数を一定の間隔で並べた超関数。英語か...</td>\n",
       "    </tr>\n",
       "    <tr>\n",
       "      <th>1</th>\n",
       "      <td>mathematics</td>\n",
       "      <td>フィッティングの補題 数学において、の補題 (FITTING LEMMA) は、\"M\" が直...</td>\n",
       "    </tr>\n",
       "    <tr>\n",
       "      <th>2</th>\n",
       "      <td>philosophy</td>\n",
       "      <td>理性 理性（りせい、→→→）とは、人間に本来的に備わっているとされる知的能力の一つである。言...</td>\n",
       "    </tr>\n",
       "    <tr>\n",
       "      <th>3</th>\n",
       "      <td>mathematics</td>\n",
       "      <td>位相線型環 数学の函数解析学における位相線型環（いそうせんけいかん、; 位相多元環、位相代数...</td>\n",
       "    </tr>\n",
       "    <tr>\n",
       "      <th>4</th>\n",
       "      <td>mathematics</td>\n",
       "      <td>調和解析 数学の一分野としての調和解析（ちょうわかいせき、）は、関数や信号を基本波の重ね合わ...</td>\n",
       "    </tr>\n",
       "  </tbody>\n",
       "</table>\n",
       "</div>"
      ],
      "text/plain": [
       "      category                                               text\n",
       "0  mathematics  くし型関数 くし型関数（くしがたかんすう、）は、デルタ関数を一定の間隔で並べた超関数。英語か...\n",
       "1  mathematics  フィッティングの補題 数学において、の補題 (FITTING LEMMA) は、\"M\" が直...\n",
       "2   philosophy  理性 理性（りせい、→→→）とは、人間に本来的に備わっているとされる知的能力の一つである。言...\n",
       "3  mathematics  位相線型環 数学の函数解析学における位相線型環（いそうせんけいかん、; 位相多元環、位相代数...\n",
       "4  mathematics  調和解析 数学の一分野としての調和解析（ちょうわかいせき、）は、関数や信号を基本波の重ね合わ..."
      ]
     },
     "execution_count": 5,
     "metadata": {},
     "output_type": "execute_result"
    }
   ],
   "source": [
    "df.head()"
   ]
  },
  {
   "cell_type": "code",
   "execution_count": 6,
   "metadata": {},
   "outputs": [],
   "source": [
    "# 訓練データ全体に対してわかち書きを行ったものを新しく列に追加していく\n",
    "mecab = MeCab.Tagger(\"-O wakati\")\n",
    "\n",
    "# わかち書きした文章をいれる\n",
    "text_tokenized = []\n",
    "for text in df[\"text\"]:\n",
    "    #parse():わかち書きを行うメソッド\n",
    "    text_tokenized.append(mecab.parse(text))\n",
    "\n",
    "# 新しく列を追加する    \n",
    "df[\"text_tokenized\"] = text_tokenized"
   ]
  },
  {
   "cell_type": "code",
   "execution_count": 7,
   "metadata": {},
   "outputs": [
    {
     "data": {
      "text/html": [
       "<div>\n",
       "<style scoped>\n",
       "    .dataframe tbody tr th:only-of-type {\n",
       "        vertical-align: middle;\n",
       "    }\n",
       "\n",
       "    .dataframe tbody tr th {\n",
       "        vertical-align: top;\n",
       "    }\n",
       "\n",
       "    .dataframe thead th {\n",
       "        text-align: right;\n",
       "    }\n",
       "</style>\n",
       "<table border=\"1\" class=\"dataframe\">\n",
       "  <thead>\n",
       "    <tr style=\"text-align: right;\">\n",
       "      <th></th>\n",
       "      <th>category</th>\n",
       "      <th>text</th>\n",
       "      <th>text_tokenized</th>\n",
       "    </tr>\n",
       "  </thead>\n",
       "  <tbody>\n",
       "    <tr>\n",
       "      <th>0</th>\n",
       "      <td>mathematics</td>\n",
       "      <td>くし型関数 くし型関数（くしがたかんすう、）は、デルタ関数を一定の間隔で並べた超関数。英語か...</td>\n",
       "      <td>くし 型 関数 くし 型 関数 （ くし が たかん すう 、 ） は 、 デルタ 関数 を...</td>\n",
       "    </tr>\n",
       "    <tr>\n",
       "      <th>1</th>\n",
       "      <td>mathematics</td>\n",
       "      <td>フィッティングの補題 数学において、の補題 (FITTING LEMMA) は、\"M\" が直...</td>\n",
       "      <td>フィッティング の 補題 数学 において 、 の 補題 ( FITTING LEMMA ) ...</td>\n",
       "    </tr>\n",
       "    <tr>\n",
       "      <th>2</th>\n",
       "      <td>philosophy</td>\n",
       "      <td>理性 理性（りせい、→→→）とは、人間に本来的に備わっているとされる知的能力の一つである。言...</td>\n",
       "      <td>理性 理性 （ り せい 、 → → → ） と は 、 人間 に 本来 的 に 備わっ て...</td>\n",
       "    </tr>\n",
       "    <tr>\n",
       "      <th>3</th>\n",
       "      <td>mathematics</td>\n",
       "      <td>位相線型環 数学の函数解析学における位相線型環（いそうせんけいかん、; 位相多元環、位相代数...</td>\n",
       "      <td>位相 線型 環 数学 の 函数 解析 学 における 位相 線型 環 （ い そう せん けい...</td>\n",
       "    </tr>\n",
       "    <tr>\n",
       "      <th>4</th>\n",
       "      <td>mathematics</td>\n",
       "      <td>調和解析 数学の一分野としての調和解析（ちょうわかいせき、）は、関数や信号を基本波の重ね合わ...</td>\n",
       "      <td>調和 解析 数学 の 一 分野 として の 調和 解析 （ ちょう わかい せき 、 ） は...</td>\n",
       "    </tr>\n",
       "  </tbody>\n",
       "</table>\n",
       "</div>"
      ],
      "text/plain": [
       "      category                                               text  \\\n",
       "0  mathematics  くし型関数 くし型関数（くしがたかんすう、）は、デルタ関数を一定の間隔で並べた超関数。英語か...   \n",
       "1  mathematics  フィッティングの補題 数学において、の補題 (FITTING LEMMA) は、\"M\" が直...   \n",
       "2   philosophy  理性 理性（りせい、→→→）とは、人間に本来的に備わっているとされる知的能力の一つである。言...   \n",
       "3  mathematics  位相線型環 数学の函数解析学における位相線型環（いそうせんけいかん、; 位相多元環、位相代数...   \n",
       "4  mathematics  調和解析 数学の一分野としての調和解析（ちょうわかいせき、）は、関数や信号を基本波の重ね合わ...   \n",
       "\n",
       "                                      text_tokenized  \n",
       "0  くし 型 関数 くし 型 関数 （ くし が たかん すう 、 ） は 、 デルタ 関数 を...  \n",
       "1  フィッティング の 補題 数学 において 、 の 補題 ( FITTING LEMMA ) ...  \n",
       "2  理性 理性 （ り せい 、 → → → ） と は 、 人間 に 本来 的 に 備わっ て...  \n",
       "3  位相 線型 環 数学 の 函数 解析 学 における 位相 線型 環 （ い そう せん けい...  \n",
       "4  調和 解析 数学 の 一 分野 として の 調和 解析 （ ちょう わかい せき 、 ） は...  "
      ]
     },
     "execution_count": 7,
     "metadata": {},
     "output_type": "execute_result"
    }
   ],
   "source": [
    "df.head()"
   ]
  },
  {
   "cell_type": "code",
   "execution_count": 8,
   "metadata": {},
   "outputs": [
    {
     "name": "stderr",
     "output_type": "stream",
     "text": [
      "/Users/hiroki.kurasawa/anaconda3/lib/python3.6/site-packages/sklearn/cross_validation.py:41: DeprecationWarning: This module was deprecated in version 0.18 in favor of the model_selection module into which all the refactored classes and functions are moved. Also note that the interface of the new CV iterators are different from that of this module. This module will be removed in 0.20.\n",
      "  \"This module will be removed in 0.20.\", DeprecationWarning)\n",
      "/Users/hiroki.kurasawa/anaconda3/lib/python3.6/site-packages/sklearn/grid_search.py:42: DeprecationWarning: This module was deprecated in version 0.18 in favor of the model_selection module into which all the refactored classes and functions are moved. This module will be removed in 0.20.\n",
      "  DeprecationWarning)\n"
     ]
    }
   ],
   "source": [
    "from collections import Counter\n",
    "from sklearn.ensemble import RandomForestClassifier\n",
    "from sklearn.feature_extraction.text import CountVectorizer, TfidfVectorizer\n",
    "from sklearn.linear_model import LogisticRegression\n",
    "from sklearn.metrics import confusion_matrix, accuracy_score, classification_report\n",
    "from sklearn.svm import LinearSVC\n",
    "from sklearn import grid_search"
   ]
  },
  {
   "cell_type": "code",
   "execution_count": 9,
   "metadata": {},
   "outputs": [],
   "source": [
    "# tf-idf\n",
    "vectorizer = TfidfVectorizer(token_pattern=r\"(?u)\\b\\w+\\b\")\n",
    "x_tfidf = vectorizer.fit_transform(df[\"text_tokenized\"])"
   ]
  },
  {
   "cell_type": "code",
   "execution_count": 10,
   "metadata": {},
   "outputs": [
    {
     "data": {
      "text/plain": [
       "array([2.64089662, 7.2156076 , 5.7115302 , ..., 7.2156076 , 6.81014249,\n",
       "       6.81014249])"
      ]
     },
     "execution_count": 10,
     "metadata": {},
     "output_type": "execute_result"
    }
   ],
   "source": [
    "# idf値の確認\n",
    "vectorizer.idf_"
   ]
  },
  {
   "cell_type": "code",
   "execution_count": 11,
   "metadata": {},
   "outputs": [
    {
     "data": {
      "text/html": [
       "<div>\n",
       "<style scoped>\n",
       "    .dataframe tbody tr th:only-of-type {\n",
       "        vertical-align: middle;\n",
       "    }\n",
       "\n",
       "    .dataframe tbody tr th {\n",
       "        vertical-align: top;\n",
       "    }\n",
       "\n",
       "    .dataframe thead th {\n",
       "        text-align: right;\n",
       "    }\n",
       "</style>\n",
       "<table border=\"1\" class=\"dataframe\">\n",
       "  <thead>\n",
       "    <tr style=\"text-align: right;\">\n",
       "      <th></th>\n",
       "      <th>idf</th>\n",
       "    </tr>\n",
       "  </thead>\n",
       "  <tbody>\n",
       "    <tr>\n",
       "      <th>リゾーマタ</th>\n",
       "      <td>7.215608</td>\n",
       "    </tr>\n",
       "    <tr>\n",
       "      <th>下がら</th>\n",
       "      <td>7.215608</td>\n",
       "    </tr>\n",
       "    <tr>\n",
       "      <th>下人</th>\n",
       "      <td>7.215608</td>\n",
       "    </tr>\n",
       "    <tr>\n",
       "      <th>下中</th>\n",
       "      <td>7.215608</td>\n",
       "    </tr>\n",
       "    <tr>\n",
       "      <th>下ろす</th>\n",
       "      <td>7.215608</td>\n",
       "    </tr>\n",
       "    <tr>\n",
       "      <th>下の句</th>\n",
       "      <td>7.215608</td>\n",
       "    </tr>\n",
       "    <tr>\n",
       "      <th>下せる</th>\n",
       "      <td>7.215608</td>\n",
       "    </tr>\n",
       "    <tr>\n",
       "      <th>下さい</th>\n",
       "      <td>7.215608</td>\n",
       "    </tr>\n",
       "    <tr>\n",
       "      <th>下げ</th>\n",
       "      <td>7.215608</td>\n",
       "    </tr>\n",
       "    <tr>\n",
       "      <th>雅男</th>\n",
       "      <td>7.215608</td>\n",
       "    </tr>\n",
       "    <tr>\n",
       "      <th>下分</th>\n",
       "      <td>7.215608</td>\n",
       "    </tr>\n",
       "    <tr>\n",
       "      <th>上面</th>\n",
       "      <td>7.215608</td>\n",
       "    </tr>\n",
       "    <tr>\n",
       "      <th>上陸</th>\n",
       "      <td>7.215608</td>\n",
       "    </tr>\n",
       "    <tr>\n",
       "      <th>雅紀</th>\n",
       "      <td>7.215608</td>\n",
       "    </tr>\n",
       "    <tr>\n",
       "      <th>上野</th>\n",
       "      <td>7.215608</td>\n",
       "    </tr>\n",
       "    <tr>\n",
       "      <th>上辺</th>\n",
       "      <td>7.215608</td>\n",
       "    </tr>\n",
       "    <tr>\n",
       "      <th>上質</th>\n",
       "      <td>7.215608</td>\n",
       "    </tr>\n",
       "    <tr>\n",
       "      <th>集う</th>\n",
       "      <td>7.215608</td>\n",
       "    </tr>\n",
       "    <tr>\n",
       "      <th>下付</th>\n",
       "      <td>7.215608</td>\n",
       "    </tr>\n",
       "    <tr>\n",
       "      <th>下向き</th>\n",
       "      <td>7.215608</td>\n",
       "    </tr>\n",
       "    <tr>\n",
       "      <th>三和</th>\n",
       "      <td>7.215608</td>\n",
       "    </tr>\n",
       "    <tr>\n",
       "      <th>下水道</th>\n",
       "      <td>7.215608</td>\n",
       "    </tr>\n",
       "    <tr>\n",
       "      <th>雅子</th>\n",
       "      <td>7.215608</td>\n",
       "    </tr>\n",
       "    <tr>\n",
       "      <th>下線</th>\n",
       "      <td>7.215608</td>\n",
       "    </tr>\n",
       "    <tr>\n",
       "      <th>下級</th>\n",
       "      <td>7.215608</td>\n",
       "    </tr>\n",
       "    <tr>\n",
       "      <th>下等</th>\n",
       "      <td>7.215608</td>\n",
       "    </tr>\n",
       "    <tr>\n",
       "      <th>下端</th>\n",
       "      <td>7.215608</td>\n",
       "    </tr>\n",
       "    <tr>\n",
       "      <th>下田</th>\n",
       "      <td>7.215608</td>\n",
       "    </tr>\n",
       "    <tr>\n",
       "      <th>下流</th>\n",
       "      <td>7.215608</td>\n",
       "    </tr>\n",
       "    <tr>\n",
       "      <th>下村</th>\n",
       "      <td>7.215608</td>\n",
       "    </tr>\n",
       "    <tr>\n",
       "      <th>...</th>\n",
       "      <td>...</td>\n",
       "    </tr>\n",
       "    <tr>\n",
       "      <th>者</th>\n",
       "      <td>1.668479</td>\n",
       "    </tr>\n",
       "    <tr>\n",
       "      <th>年</th>\n",
       "      <td>1.622757</td>\n",
       "    </tr>\n",
       "    <tr>\n",
       "      <th>もの</th>\n",
       "      <td>1.607969</td>\n",
       "    </tr>\n",
       "    <tr>\n",
       "      <th>なる</th>\n",
       "      <td>1.604306</td>\n",
       "    </tr>\n",
       "    <tr>\n",
       "      <th>よう</th>\n",
       "      <td>1.566633</td>\n",
       "    </tr>\n",
       "    <tr>\n",
       "      <th>その</th>\n",
       "      <td>1.564874</td>\n",
       "    </tr>\n",
       "    <tr>\n",
       "      <th>ない</th>\n",
       "      <td>1.545727</td>\n",
       "    </tr>\n",
       "    <tr>\n",
       "      <th>この</th>\n",
       "      <td>1.490390</td>\n",
       "    </tr>\n",
       "    <tr>\n",
       "      <th>として</th>\n",
       "      <td>1.455130</td>\n",
       "    </tr>\n",
       "    <tr>\n",
       "      <th>的</th>\n",
       "      <td>1.447287</td>\n",
       "    </tr>\n",
       "    <tr>\n",
       "      <th>れる</th>\n",
       "      <td>1.415001</td>\n",
       "    </tr>\n",
       "    <tr>\n",
       "      <th>から</th>\n",
       "      <td>1.397009</td>\n",
       "    </tr>\n",
       "    <tr>\n",
       "      <th>いる</th>\n",
       "      <td>1.386662</td>\n",
       "    </tr>\n",
       "    <tr>\n",
       "      <th>れ</th>\n",
       "      <td>1.364843</td>\n",
       "    </tr>\n",
       "    <tr>\n",
       "      <th>も</th>\n",
       "      <td>1.351976</td>\n",
       "    </tr>\n",
       "    <tr>\n",
       "      <th>な</th>\n",
       "      <td>1.326730</td>\n",
       "    </tr>\n",
       "    <tr>\n",
       "      <th>こと</th>\n",
       "      <td>1.302105</td>\n",
       "    </tr>\n",
       "    <tr>\n",
       "      <th>さ</th>\n",
       "      <td>1.298059</td>\n",
       "    </tr>\n",
       "    <tr>\n",
       "      <th>する</th>\n",
       "      <td>1.283362</td>\n",
       "    </tr>\n",
       "    <tr>\n",
       "      <th>し</th>\n",
       "      <td>1.217913</td>\n",
       "    </tr>\n",
       "    <tr>\n",
       "      <th>て</th>\n",
       "      <td>1.194584</td>\n",
       "    </tr>\n",
       "    <tr>\n",
       "      <th>た</th>\n",
       "      <td>1.176544</td>\n",
       "    </tr>\n",
       "    <tr>\n",
       "      <th>ある</th>\n",
       "      <td>1.174163</td>\n",
       "    </tr>\n",
       "    <tr>\n",
       "      <th>が</th>\n",
       "      <td>1.169418</td>\n",
       "    </tr>\n",
       "    <tr>\n",
       "      <th>と</th>\n",
       "      <td>1.108585</td>\n",
       "    </tr>\n",
       "    <tr>\n",
       "      <th>に</th>\n",
       "      <td>1.105250</td>\n",
       "    </tr>\n",
       "    <tr>\n",
       "      <th>で</th>\n",
       "      <td>1.080043</td>\n",
       "    </tr>\n",
       "    <tr>\n",
       "      <th>を</th>\n",
       "      <td>1.072496</td>\n",
       "    </tr>\n",
       "    <tr>\n",
       "      <th>は</th>\n",
       "      <td>1.014085</td>\n",
       "    </tr>\n",
       "    <tr>\n",
       "      <th>の</th>\n",
       "      <td>1.013072</td>\n",
       "    </tr>\n",
       "  </tbody>\n",
       "</table>\n",
       "<p>30875 rows × 1 columns</p>\n",
       "</div>"
      ],
      "text/plain": [
       "            idf\n",
       "リゾーマタ  7.215608\n",
       "下がら    7.215608\n",
       "下人     7.215608\n",
       "下中     7.215608\n",
       "下ろす    7.215608\n",
       "下の句    7.215608\n",
       "下せる    7.215608\n",
       "下さい    7.215608\n",
       "下げ     7.215608\n",
       "雅男     7.215608\n",
       "下分     7.215608\n",
       "上面     7.215608\n",
       "上陸     7.215608\n",
       "雅紀     7.215608\n",
       "上野     7.215608\n",
       "上辺     7.215608\n",
       "上質     7.215608\n",
       "集う     7.215608\n",
       "下付     7.215608\n",
       "下向き    7.215608\n",
       "三和     7.215608\n",
       "下水道    7.215608\n",
       "雅子     7.215608\n",
       "下線     7.215608\n",
       "下級     7.215608\n",
       "下等     7.215608\n",
       "下端     7.215608\n",
       "下田     7.215608\n",
       "下流     7.215608\n",
       "下村     7.215608\n",
       "...         ...\n",
       "者      1.668479\n",
       "年      1.622757\n",
       "もの     1.607969\n",
       "なる     1.604306\n",
       "よう     1.566633\n",
       "その     1.564874\n",
       "ない     1.545727\n",
       "この     1.490390\n",
       "として    1.455130\n",
       "的      1.447287\n",
       "れる     1.415001\n",
       "から     1.397009\n",
       "いる     1.386662\n",
       "れ      1.364843\n",
       "も      1.351976\n",
       "な      1.326730\n",
       "こと     1.302105\n",
       "さ      1.298059\n",
       "する     1.283362\n",
       "し      1.217913\n",
       "て      1.194584\n",
       "た      1.176544\n",
       "ある     1.174163\n",
       "が      1.169418\n",
       "と      1.108585\n",
       "に      1.105250\n",
       "で      1.080043\n",
       "を      1.072496\n",
       "は      1.014085\n",
       "の      1.013072\n",
       "\n",
       "[30875 rows x 1 columns]"
      ]
     },
     "execution_count": 11,
     "metadata": {},
     "output_type": "execute_result"
    }
   ],
   "source": [
    "# idf値の昇順で単語を確認する（インデックスに文字列、idfカラムにidf値）\n",
    "# sorted()のkey=lambdaは何を基準にソートするのかを決める\n",
    "pd.Series(vectorizer.idf_, index= [x[0] for x in sorted(vectorizer.vocabulary_.items(),key=lambda x:x[1])]).to_frame(\"idf\").sort_values(\"idf\",ascending=False)"
   ]
  },
  {
   "cell_type": "code",
   "execution_count": 12,
   "metadata": {},
   "outputs": [
    {
     "data": {
      "text/html": [
       "<div>\n",
       "<style scoped>\n",
       "    .dataframe tbody tr th:only-of-type {\n",
       "        vertical-align: middle;\n",
       "    }\n",
       "\n",
       "    .dataframe tbody tr th {\n",
       "        vertical-align: top;\n",
       "    }\n",
       "\n",
       "    .dataframe thead th {\n",
       "        text-align: right;\n",
       "    }\n",
       "</style>\n",
       "<table border=\"1\" class=\"dataframe\">\n",
       "  <thead>\n",
       "    <tr style=\"text-align: right;\">\n",
       "      <th></th>\n",
       "      <th>category</th>\n",
       "      <th>text</th>\n",
       "    </tr>\n",
       "  </thead>\n",
       "  <tbody>\n",
       "    <tr>\n",
       "      <th>0</th>\n",
       "      <td>philosophy</td>\n",
       "      <td>細見和之 細見和之（ほそみ　かずゆき、1962年2月27日）は、日本の詩人、京都大学教授、大...</td>\n",
       "    </tr>\n",
       "    <tr>\n",
       "      <th>1</th>\n",
       "      <td>mathematics</td>\n",
       "      <td>グライバッハ標準形 計算機科学において、文脈自由言語の全ての生成規則が次のように書けるとき、...</td>\n",
       "    </tr>\n",
       "    <tr>\n",
       "      <th>2</th>\n",
       "      <td>mathematics</td>\n",
       "      <td>淡中圏 淡中圏（たんなかけん、TANNAKIAN CATEGORY）とは与えられた体\"K\"に...</td>\n",
       "    </tr>\n",
       "    <tr>\n",
       "      <th>3</th>\n",
       "      <td>mathematics</td>\n",
       "      <td>根岸世雄 根岸 世雄（ねぎし ときお、1929年 - 2005年1月26日）は、日本の数学者...</td>\n",
       "    </tr>\n",
       "    <tr>\n",
       "      <th>4</th>\n",
       "      <td>mathematics</td>\n",
       "      <td>CEF CEF</td>\n",
       "    </tr>\n",
       "  </tbody>\n",
       "</table>\n",
       "</div>"
      ],
      "text/plain": [
       "      category                                               text\n",
       "0   philosophy  細見和之 細見和之（ほそみ　かずゆき、1962年2月27日）は、日本の詩人、京都大学教授、大...\n",
       "1  mathematics  グライバッハ標準形 計算機科学において、文脈自由言語の全ての生成規則が次のように書けるとき、...\n",
       "2  mathematics  淡中圏 淡中圏（たんなかけん、TANNAKIAN CATEGORY）とは与えられた体\"K\"に...\n",
       "3  mathematics  根岸世雄 根岸 世雄（ねぎし ときお、1929年 - 2005年1月26日）は、日本の数学者...\n",
       "4  mathematics                                           CEF CEF "
      ]
     },
     "execution_count": 12,
     "metadata": {},
     "output_type": "execute_result"
    }
   ],
   "source": [
    "# テストデータの読み込み\n",
    "df_test = pd.read_csv(\"wikipedia-test.txt\",sep=\"\\t\")\n",
    "df_test.head()"
   ]
  },
  {
   "cell_type": "code",
   "execution_count": 13,
   "metadata": {},
   "outputs": [],
   "source": [
    "mecab = MeCab.Tagger(\"-O wakati\")\n",
    "\n",
    "text_tokenized = []\n",
    "\n",
    "for text in df_test[\"text\"]:\n",
    "    text_tokenized.append(mecab.parse(text))\n",
    "\n",
    "df_test[\"text_tokenized\"] = text_tokenized"
   ]
  },
  {
   "cell_type": "code",
   "execution_count": 14,
   "metadata": {},
   "outputs": [
    {
     "data": {
      "text/html": [
       "<div>\n",
       "<style scoped>\n",
       "    .dataframe tbody tr th:only-of-type {\n",
       "        vertical-align: middle;\n",
       "    }\n",
       "\n",
       "    .dataframe tbody tr th {\n",
       "        vertical-align: top;\n",
       "    }\n",
       "\n",
       "    .dataframe thead th {\n",
       "        text-align: right;\n",
       "    }\n",
       "</style>\n",
       "<table border=\"1\" class=\"dataframe\">\n",
       "  <thead>\n",
       "    <tr style=\"text-align: right;\">\n",
       "      <th></th>\n",
       "      <th>category</th>\n",
       "      <th>text</th>\n",
       "      <th>text_tokenized</th>\n",
       "    </tr>\n",
       "  </thead>\n",
       "  <tbody>\n",
       "    <tr>\n",
       "      <th>0</th>\n",
       "      <td>philosophy</td>\n",
       "      <td>細見和之 細見和之（ほそみ　かずゆき、1962年2月27日）は、日本の詩人、京都大学教授、大...</td>\n",
       "      <td>細見 和之 細見 和之 （ ほそ み 　 か ず ゆき 、 1962 年 2 月 27 日 ...</td>\n",
       "    </tr>\n",
       "    <tr>\n",
       "      <th>1</th>\n",
       "      <td>mathematics</td>\n",
       "      <td>グライバッハ標準形 計算機科学において、文脈自由言語の全ての生成規則が次のように書けるとき、...</td>\n",
       "      <td>グライバッハ 標準 形 計算 機 科学 において 、 文脈 自由 言語 の 全て の 生成 ...</td>\n",
       "    </tr>\n",
       "    <tr>\n",
       "      <th>2</th>\n",
       "      <td>mathematics</td>\n",
       "      <td>淡中圏 淡中圏（たんなかけん、TANNAKIAN CATEGORY）とは与えられた体\"K\"に...</td>\n",
       "      <td>淡 中 圏 淡 中 圏 （ たん な かけ ん 、 TANNAKIAN CATEGORY ）...</td>\n",
       "    </tr>\n",
       "    <tr>\n",
       "      <th>3</th>\n",
       "      <td>mathematics</td>\n",
       "      <td>根岸世雄 根岸 世雄（ねぎし ときお、1929年 - 2005年1月26日）は、日本の数学者...</td>\n",
       "      <td>根岸 世 雄 根岸 世 雄 （ ねぎ し ときお 、 1929 年 - 2005 年 1 月...</td>\n",
       "    </tr>\n",
       "    <tr>\n",
       "      <th>4</th>\n",
       "      <td>mathematics</td>\n",
       "      <td>CEF CEF</td>\n",
       "      <td>CEF CEF \\n</td>\n",
       "    </tr>\n",
       "  </tbody>\n",
       "</table>\n",
       "</div>"
      ],
      "text/plain": [
       "      category                                               text  \\\n",
       "0   philosophy  細見和之 細見和之（ほそみ　かずゆき、1962年2月27日）は、日本の詩人、京都大学教授、大...   \n",
       "1  mathematics  グライバッハ標準形 計算機科学において、文脈自由言語の全ての生成規則が次のように書けるとき、...   \n",
       "2  mathematics  淡中圏 淡中圏（たんなかけん、TANNAKIAN CATEGORY）とは与えられた体\"K\"に...   \n",
       "3  mathematics  根岸世雄 根岸 世雄（ねぎし ときお、1929年 - 2005年1月26日）は、日本の数学者...   \n",
       "4  mathematics                                           CEF CEF    \n",
       "\n",
       "                                      text_tokenized  \n",
       "0  細見 和之 細見 和之 （ ほそ み 　 か ず ゆき 、 1962 年 2 月 27 日 ...  \n",
       "1  グライバッハ 標準 形 計算 機 科学 において 、 文脈 自由 言語 の 全て の 生成 ...  \n",
       "2  淡 中 圏 淡 中 圏 （ たん な かけ ん 、 TANNAKIAN CATEGORY ）...  \n",
       "3  根岸 世 雄 根岸 世 雄 （ ねぎ し ときお 、 1929 年 - 2005 年 1 月...  \n",
       "4                                         CEF CEF \\n  "
      ]
     },
     "execution_count": 14,
     "metadata": {},
     "output_type": "execute_result"
    }
   ],
   "source": [
    "df_test.head()"
   ]
  },
  {
   "cell_type": "code",
   "execution_count": 15,
   "metadata": {},
   "outputs": [],
   "source": [
    "vectorizer = TfidfVectorizer(token_pattern=r\"(?u)\\b\\w+\\b\")\n",
    "X= vectorizer.fit_transform(df[\"text_tokenized\"])"
   ]
  },
  {
   "cell_type": "code",
   "execution_count": 16,
   "metadata": {},
   "outputs": [],
   "source": [
    "# テストデータに対しても同様にtf-idfを求める\n",
    "# Xと次元数を合わせるために、transformを使用する（つまり、テストデータにある新しい単語の情報は消失する）\n",
    "X_test = vectorizer.transform(df_test[\"text_tokenized\"])"
   ]
  },
  {
   "cell_type": "code",
   "execution_count": 17,
   "metadata": {},
   "outputs": [
    {
     "name": "stdout",
     "output_type": "stream",
     "text": [
      "(1000, 30875)\n",
      "(100, 30875)\n"
     ]
    }
   ],
   "source": [
    "# データサイズの確認\n",
    "# 文章×単語のtf-idf値の行列\n",
    "print(X.toarray().shape)\n",
    "print(X_test.toarray().shape)"
   ]
  },
  {
   "cell_type": "code",
   "execution_count": null,
   "metadata": {},
   "outputs": [],
   "source": [
    "# 各文章毎の単語のtf-idf値を入力として、テストデータの文章のカテゴリーを予測する\n",
    "# ロジスティック回帰\n",
    "# SVM\n",
    "# ランダムフォレスト\n",
    "# ニューラルネットワーク"
   ]
  },
  {
   "cell_type": "code",
   "execution_count": 21,
   "metadata": {},
   "outputs": [],
   "source": [
    "def show_evaluation_metrics(y_true,y_pred):\n",
    "    print(\"Accuracy\")\n",
    "    print(accuracy_score(y_true,y_pred))\n",
    "    print()\n",
    "    \n",
    "    print(\"Report\")\n",
    "    print(classification_report(y_true,y_pred))\n",
    "    \n",
    "    print(\"Confusion matrix:\")\n",
    "    print(confusion_matrix(y_true,y_pred))"
   ]
  },
  {
   "cell_type": "code",
   "execution_count": null,
   "metadata": {},
   "outputs": [],
   "source": [
    "# ロジスティック回帰\n",
    "# 最適化を行うパラメータ\n",
    "# C : 正則化項"
   ]
  },
  {
   "cell_type": "code",
   "execution_count": 19,
   "metadata": {},
   "outputs": [
    {
     "name": "stdout",
     "output_type": "stream",
     "text": [
      "best_param:\n",
      "{'C': 99}\n",
      "best_estimator:\n",
      "LogisticRegression(C=99, class_weight=None, dual=False, fit_intercept=True,\n",
      "          intercept_scaling=1, max_iter=100, multi_class='ovr', n_jobs=1,\n",
      "          penalty='l2', random_state=0, solver='liblinear', tol=0.0001,\n",
      "          verbose=0, warm_start=False)\n",
      "best_score:\n",
      "0.933\n"
     ]
    }
   ],
   "source": [
    "# グリッドサーチを用いたパラメータの最適化\n",
    "params=np.arange(1,200,1)\n",
    "clf_lr = grid_search.GridSearchCV(LogisticRegression(random_state=0),param_grid={'C':params})\n",
    "clf_lr.fit(X,df[\"category\"])\n",
    "print(\"best_param:\\n{}\".format(clf_lr.best_params_))\n",
    "print(\"best_estimator:\\n{}\".format(clf_lr.best_estimator_))\n",
    "print(\"best_score:\\n{}\".format(clf_lr.best_score_))"
   ]
  },
  {
   "cell_type": "code",
   "execution_count": 22,
   "metadata": {},
   "outputs": [
    {
     "name": "stdout",
     "output_type": "stream",
     "text": [
      "Accuracy\n",
      "0.93\n",
      "\n",
      "Report\n",
      "             precision    recall  f1-score   support\n",
      "\n",
      "mathematics       0.94      0.96      0.95        67\n",
      " philosophy       0.91      0.88      0.89        33\n",
      "\n",
      "avg / total       0.93      0.93      0.93       100\n",
      "\n",
      "Confusion matrix:\n",
      "[[64  3]\n",
      " [ 4 29]]\n"
     ]
    },
    {
     "name": "stderr",
     "output_type": "stream",
     "text": [
      "/Users/hiroki.kurasawa/anaconda3/lib/python3.6/site-packages/sklearn/linear_model/logistic.py:1228: UserWarning: 'n_jobs' > 1 does not have any effect when 'solver' is set to 'liblinear'. Got 'n_jobs' = -1.\n",
      "  \" = {}.\".format(self.n_jobs))\n"
     ]
    }
   ],
   "source": [
    "clf_lr = LogisticRegression(n_jobs=-1,C = 99)\n",
    "clf_lr.fit(X,df[\"category\"])\n",
    "y_test_pred = clf_lr.predict(X_test)\n",
    "show_evaluation_metrics(df_test[\"category\"],y_test_pred)"
   ]
  },
  {
   "cell_type": "code",
   "execution_count": 85,
   "metadata": {},
   "outputs": [],
   "source": [
    "# SVM（線形カーネル）\n",
    "# parameter: \n",
    "# penalty\t罰則項。L1正則化・L2正則化(デフォルト)を選択可\n",
    "# loss\t評価関数。ヒンジ損失か二乗ヒンジ(デフォルト)\n",
    "# dual\t双対問題を解くか否か(デフォルトはtrue)\n",
    "# tol\tアルゴリズムの終了条件(default=1e-4)\n",
    "# C\tソフトマージンの厳しさを表すパラメータ"
   ]
  },
  {
   "cell_type": "code",
   "execution_count": 87,
   "metadata": {},
   "outputs": [],
   "source": [
    "# 最適化を行うパラメータ\n",
    "# 1 : penalty\t罰則項。L1正則化・L2正則化(デフォルト)を選択可\n",
    "# 2 : loss\t評価関数。ヒンジ損失か二乗ヒンジ(デフォルト)\n",
    "# 3 : C\tソフトマージンの厳しさを表すパラメータ"
   ]
  },
  {
   "cell_type": "code",
   "execution_count": 23,
   "metadata": {},
   "outputs": [
    {
     "name": "stdout",
     "output_type": "stream",
     "text": [
      "best_param:\n",
      "{'C': 1.0}\n",
      "best_estimator:\n",
      "LinearSVC(C=1.0, class_weight=None, dual=True, fit_intercept=True,\n",
      "     intercept_scaling=1, loss='hinge', max_iter=1000, multi_class='ovr',\n",
      "     penalty='l2', random_state=0, tol=0.0001, verbose=0)\n",
      "best_score:\n",
      "0.942\n",
      "best_param:\n",
      "{'C': 1.0}\n",
      "best_estimator:\n",
      "LinearSVC(C=1.0, class_weight=None, dual=False, fit_intercept=True,\n",
      "     intercept_scaling=1, loss='squared_hinge', max_iter=1000,\n",
      "     multi_class='ovr', penalty='l1', random_state=0, tol=0.0001,\n",
      "     verbose=0)\n",
      "best_score:\n",
      "0.919\n",
      "best_param:\n",
      "{'C': 100}\n",
      "best_estimator:\n",
      "LinearSVC(C=100, class_weight=None, dual=True, fit_intercept=True,\n",
      "     intercept_scaling=1, loss='squared_hinge', max_iter=1000,\n",
      "     multi_class='ovr', penalty='l2', random_state=0, tol=0.0001,\n",
      "     verbose=0)\n",
      "best_score:\n",
      "0.937\n"
     ]
    }
   ],
   "source": [
    "# グリッドサーチによるパラメータの最適化\n",
    "Standard = LinearSVC(penalty='l2',loss='hinge',random_state=0)\n",
    "Penalty_L1 = LinearSVC(penalty='l1',loss='squared_hinge',dual=False,random_state=0)\n",
    "Penalty_L2 = LinearSVC(penalty='l2',loss='squared_hinge',random_state=0)\n",
    "\n",
    "model_set = [Standard,Penalty_L1,Penalty_L2]\n",
    "\n",
    "params =[0.01, 0.1, 1.0,100] \n",
    "\n",
    "for model in model_set:\n",
    "    clf_svc = grid_search.GridSearchCV(model,param_grid={'C':params})\n",
    "    clf_svc.fit(X,df[\"category\"])\n",
    "    \n",
    "    print(\"best_param:\\n{}\".format(clf_svc.best_params_))\n",
    "    print(\"best_estimator:\\n{}\".format(clf_svc.best_estimator_))\n",
    "    print(\"best_score:\\n{}\".format(clf_svc.best_score_))"
   ]
  },
  {
   "cell_type": "code",
   "execution_count": 24,
   "metadata": {},
   "outputs": [
    {
     "name": "stdout",
     "output_type": "stream",
     "text": [
      "Accuracy\n",
      "0.93\n",
      "\n",
      "Report\n",
      "             precision    recall  f1-score   support\n",
      "\n",
      "mathematics       0.93      0.97      0.95        67\n",
      " philosophy       0.93      0.85      0.89        33\n",
      "\n",
      "avg / total       0.93      0.93      0.93       100\n",
      "\n",
      "Confusion matrix:\n",
      "[[65  2]\n",
      " [ 5 28]]\n"
     ]
    }
   ],
   "source": [
    "# グリッドサーチによる最適なパラメータでのテストデータに対する正解率\n",
    "clf_svc_best = LinearSVC(penalty='l2',C=1.0,loss='hinge',random_state=0)\n",
    "clf_svc_best.fit(X,df[\"category\"])\n",
    "y_test_pred = clf_svc_best.predict(X_test)\n",
    "show_evaluation_metrics(df_test[\"category\"],y_test_pred)"
   ]
  },
  {
   "cell_type": "code",
   "execution_count": null,
   "metadata": {},
   "outputs": [],
   "source": [
    "# ランダムフォレスト\n",
    "# 最適化を行うparameter: \n",
    "# n_estimators:木をいくつ生成するか。デフォルトでは10。\n",
    "# max_depth:木の深さの設定。デフォルトはなし\n",
    "# max_features:分岐に用いる説明変数の数を設定。デフォルトは自動。\n",
    "# min_sample_split:分割する際の最小のサンプル数を設定。デフォルトは2。"
   ]
  },
  {
   "cell_type": "code",
   "execution_count": 25,
   "metadata": {},
   "outputs": [
    {
     "name": "stdout",
     "output_type": "stream",
     "text": [
      "best_param:\n",
      "{'max_depth': None, 'n_estimators': 200}\n",
      "best_score:\n",
      "0.909\n"
     ]
    }
   ],
   "source": [
    "params = {\n",
    "    'n_estimators' :[100,200,300],\n",
    "    'max_depth':[1,5,10,None]\n",
    "#     'max_features':[1,5,10]\n",
    "#     'min_sample_split':[1,2,4]\n",
    "}\n",
    "\n",
    "clf_rf = grid_search.GridSearchCV(RandomForestClassifier(random_state=0,n_jobs=-1),params)\n",
    "clf_rf.fit(X,df[\"category\"])\n",
    "print(\"best_param:\\n{}\".format(clf_rf.best_params_))\n",
    "print(\"best_score:\\n{}\".format(clf_rf.best_score_))"
   ]
  },
  {
   "cell_type": "code",
   "execution_count": 26,
   "metadata": {},
   "outputs": [
    {
     "name": "stdout",
     "output_type": "stream",
     "text": [
      "Accuracy\n",
      "0.89\n",
      "\n",
      "Report\n",
      "             precision    recall  f1-score   support\n",
      "\n",
      "mathematics       0.88      0.97      0.92        67\n",
      " philosophy       0.92      0.73      0.81        33\n",
      "\n",
      "avg / total       0.89      0.89      0.89       100\n",
      "\n",
      "Confusion matrix:\n",
      "[[65  2]\n",
      " [ 9 24]]\n"
     ]
    }
   ],
   "source": [
    "clf_rf = RandomForestClassifier(n_estimators=200,max_depth=None,n_jobs=-1,random_state=0)\n",
    "clf_rf.fit(X,df[\"category\"])\n",
    "y_test_pred = clf_rf.predict(X_test)\n",
    "show_evaluation_metrics(df_test[\"category\"],y_test_pred)"
   ]
  },
  {
   "cell_type": "code",
   "execution_count": null,
   "metadata": {},
   "outputs": [],
   "source": [
    "# ニューラルネットワーク"
   ]
  },
  {
   "cell_type": "code",
   "execution_count": 27,
   "metadata": {},
   "outputs": [
    {
     "name": "stderr",
     "output_type": "stream",
     "text": [
      "/Users/hiroki.kurasawa/anaconda3/lib/python3.6/site-packages/h5py/__init__.py:36: FutureWarning: Conversion of the second argument of issubdtype from `float` to `np.floating` is deprecated. In future, it will be treated as `np.float64 == np.dtype(float).type`.\n",
      "  from ._conv import register_converters as _register_converters\n"
     ]
    }
   ],
   "source": [
    "from chainer import Chain,Variable\n",
    "import chainer.links as L\n",
    "import chainer.functions as F\n",
    "from chainer.datasets import TupleDataset\n",
    "from chainer.iterators import SerialIterator\n",
    "from chainer.training import StandardUpdater,Trainer\n",
    "from chainer.training.extensions import PrintReport,LogReport,Evaluator\n",
    "from sklearn.preprocessing import StandardScaler\n",
    "from chainer.datasets import TupleDataset\n",
    "from chainer.optimizers import Adam\n",
    "from sklearn.metrics import classification_report"
   ]
  },
  {
   "cell_type": "code",
   "execution_count": 28,
   "metadata": {},
   "outputs": [],
   "source": [
    "category_type = df[\"category\"].unique()"
   ]
  },
  {
   "cell_type": "code",
   "execution_count": 29,
   "metadata": {},
   "outputs": [],
   "source": [
    "category_to_id = dict(zip(category_type,np.arange(category_type.shape[0])))"
   ]
  },
  {
   "cell_type": "code",
   "execution_count": 30,
   "metadata": {},
   "outputs": [],
   "source": [
    "Y = df[\"category\"].map(lambda x:category_to_id[x])\n",
    "Y_test = df_test[\"category\"].map(lambda x:category_to_id[x])"
   ]
  },
  {
   "cell_type": "code",
   "execution_count": 31,
   "metadata": {},
   "outputs": [],
   "source": [
    "X = X.astype(np.float32)\n",
    "X_test = X_test.astype(np.float32)\n",
    "Y = Y.astype(np.int32)\n",
    "Y_test = Y_test.astype(np.int32)"
   ]
  },
  {
   "cell_type": "code",
   "execution_count": 32,
   "metadata": {},
   "outputs": [],
   "source": [
    "train  = TupleDataset(X.toarray(),Y)\n",
    "test = TupleDataset(X_test.toarray(),Y_test)"
   ]
  },
  {
   "cell_type": "code",
   "execution_count": 33,
   "metadata": {},
   "outputs": [
    {
     "data": {
      "text/plain": [
       "30875"
      ]
     },
     "execution_count": 33,
     "metadata": {},
     "output_type": "execute_result"
    }
   ],
   "source": [
    "len(train[0][0])"
   ]
  },
  {
   "cell_type": "code",
   "execution_count": 34,
   "metadata": {},
   "outputs": [],
   "source": [
    "class Model(Chain):\n",
    "    def __init__(self):\n",
    "        super(Model,self).__init__()\n",
    "        with self.init_scope():\n",
    "            self.l1 = L.Linear(30875,200)\n",
    "            self.l2 = L.Linear(200,100)\n",
    "            self.l3 = L.Linear(100,10)\n",
    "            self.l4 = L.Linear(10,2)\n",
    "            \n",
    "    def __call__(self,x):\n",
    "        h = F.dropout(F.relu(self.l1(x)),ratio=0.5)\n",
    "        h = F.dropout(F.relu(self.l2(h)),ratio=0.5)\n",
    "        h = F.dropout(F.relu(self.l3(h)),ratio=0.5)\n",
    "        return self.l4(h)"
   ]
  },
  {
   "cell_type": "code",
   "execution_count": 35,
   "metadata": {},
   "outputs": [],
   "source": [
    "train_iterator = SerialIterator(train,batch_size=100,repeat=True)\n",
    "test_iterator = SerialIterator(test,batch_size = 100,shuffle=False,repeat=False)"
   ]
  },
  {
   "cell_type": "code",
   "execution_count": 36,
   "metadata": {},
   "outputs": [
    {
     "name": "stdout",
     "output_type": "stream",
     "text": [
      "iteration   main/loss   test/main/loss  main/accuracy  test/main/accuracy\n",
      "\u001b[J100         0.314665    0.219673        0.8486         0.92                \n",
      "\u001b[J200         0.0477379   0.36546         0.99           0.92                \n",
      "\u001b[J300         0.0431816   0.369336        0.9917         0.91                \n",
      "\u001b[J400         0.0390786   0.403125        0.9926         0.91                \n",
      "\u001b[J500         0.0341438   0.43661         0.993          0.91                \n",
      "\u001b[J600         0.0326273   0.438809        0.9927         0.91                \n",
      "\u001b[J700         0.030726    0.5341          0.9946         0.92                \n",
      "\u001b[J800         0.0273112   0.550116        0.9929         0.92                \n",
      "\u001b[J900         0.0287428   0.585356        0.9927         0.91                \n",
      "\u001b[J1000        0.025566    0.58413         0.9932         0.92                \n"
     ]
    }
   ],
   "source": [
    "model = Model()\n",
    "classifier = L.Classifier(model)\n",
    "optimizer = Adam()\n",
    "optimizer.setup(classifier)\n",
    "updater = StandardUpdater(train_iterator,optimizer,loss_func=classifier)\n",
    "trainer = Trainer(updater,(1001,'iteration'))\n",
    "trainer.extend(Evaluator(test_iterator,classifier),trigger=(100,'iteration'),name='test')\n",
    "trainer.extend(PrintReport(['iteration','main/loss','test/main/loss', 'main/accuracy', 'test/main/accuracy']))\n",
    "logreport = LogReport(trigger=(100,'iteration'))\n",
    "trainer.extend(logreport)\n",
    "trainer.run()"
   ]
  },
  {
   "cell_type": "code",
   "execution_count": 37,
   "metadata": {},
   "outputs": [],
   "source": [
    "y = model(X_test.toarray())"
   ]
  },
  {
   "cell_type": "code",
   "execution_count": 38,
   "metadata": {},
   "outputs": [],
   "source": [
    "pred = np.argmax(y.data,axis=1)"
   ]
  },
  {
   "cell_type": "code",
   "execution_count": 42,
   "metadata": {},
   "outputs": [
    {
     "name": "stdout",
     "output_type": "stream",
     "text": [
      "Accuracy\n",
      "0.89\n",
      "\n",
      "Report\n",
      "             precision    recall  f1-score   support\n",
      "\n",
      "          0       0.91      0.93      0.92        67\n",
      "          1       0.84      0.82      0.83        33\n",
      "\n",
      "avg / total       0.89      0.89      0.89       100\n",
      "\n",
      "Confusion matrix:\n",
      "[[62  5]\n",
      " [ 6 27]]\n"
     ]
    }
   ],
   "source": [
    "show_evaluation_metrics(Y_test,pred)"
   ]
  },
  {
   "cell_type": "code",
   "execution_count": 187,
   "metadata": {},
   "outputs": [
    {
     "data": {
      "text/plain": [
       "['wikipedia_category_NN.pkl.gz']"
      ]
     },
     "execution_count": 187,
     "metadata": {},
     "output_type": "execute_result"
    }
   ],
   "source": [
    "# モデルの保存\n",
    "# ロジスティック回帰モデルの保存\n",
    "joblib.dump(clf_lr,\"wikipedia_category_logistic.pkl.gz\")\n",
    "joblib.dump(clf_svc_best,\"wikipedia_category_svc.pkl.gz\")\n",
    "joblib.dump(clf_rf,\"wikipedia_category_rf.pkl.gz\")\n",
    "joblib.dump(model,\"wikipedia_category_NN.pkl.gz\")"
   ]
  }
 ],
 "metadata": {
  "kernelspec": {
   "display_name": "Python 3",
   "language": "python",
   "name": "python3"
  },
  "language_info": {
   "codemirror_mode": {
    "name": "ipython",
    "version": 3
   },
   "file_extension": ".py",
   "mimetype": "text/x-python",
   "name": "python",
   "nbconvert_exporter": "python",
   "pygments_lexer": "ipython3",
   "version": "3.6.4"
  }
 },
 "nbformat": 4,
 "nbformat_minor": 2
}
